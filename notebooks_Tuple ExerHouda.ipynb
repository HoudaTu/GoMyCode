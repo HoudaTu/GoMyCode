{
  "metadata": {
    "language_info": {
      "codemirror_mode": {
        "name": "python",
        "version": 3
      },
      "file_extension": ".py",
      "mimetype": "text/x-python",
      "name": "python",
      "nbconvert_exporter": "python",
      "pygments_lexer": "ipython3",
      "version": "3.8"
    },
    "kernelspec": {
      "name": "python",
      "display_name": "Python (Pyodide)",
      "language": "python"
    }
  },
  "nbformat_minor": 4,
  "nbformat": 4,
  "cells": [
    {
      "cell_type": "code",
      "source": "aTuple= [('item1', '12.20'), ('item2', '15.10'), ('item3', '24.5')]\nresult=sorted(aTuple, key=lambda x:float(x[1]), reverse=True)\nprint(result)",
      "metadata": {},
      "execution_count": null,
      "outputs": []
    }
  ]
}