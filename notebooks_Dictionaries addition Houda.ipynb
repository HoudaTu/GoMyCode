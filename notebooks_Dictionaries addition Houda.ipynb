{
  "metadata": {
    "language_info": {
      "name": ""
    },
    "kernelspec": {
      "name": "python",
      "display_name": "Python (Pyodide)",
      "language": "python"
    }
  },
  "nbformat_minor": 4,
  "nbformat": 4,
  "cells": [
    {
      "cell_type": "code",
      "source": "d1={}\nd2={}\nfor i in d1:\n    for j in d2:\n        d3 = d1[i] + d2[j]\n        print(d3)\n",
      "metadata": {},
      "execution_count": null,
      "outputs": []
    }
  ]
}