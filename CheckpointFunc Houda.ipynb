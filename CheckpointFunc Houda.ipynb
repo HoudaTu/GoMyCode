{
  "metadata": {
    "language_info": {
      "codemirror_mode": {
        "name": "python",
        "version": 3
      },
      "file_extension": ".py",
      "mimetype": "text/x-python",
      "name": "python",
      "nbconvert_exporter": "python",
      "pygments_lexer": "ipython3",
      "version": "3.8"
    },
    "kernelspec": {
      "name": "python",
      "display_name": "Python (Pyodide)",
      "language": "python"
    }
  },
  "nbformat_minor": 4,
  "nbformat": 4,
  "cells": [
    {
      "cell_type": "code",
      "source": "def calculator():\n    operators=input('''\n       * for multuplication\n       + for addition \n       - for substruction\n       / for division\n            ''')\n    num1=int(input())\n    num2=int(input())\n    if operators== \"+\":\n          print('{}+{}='.format(num1,num2))\n          print(num1+num2)\n    elif operators==\"*\":\n          print('{}*{}='.format(num1,num2))\n          print(num1*num2)\n    elif operators==\"/\":\n          print('{}/{}='.format(num1,num2))\n          print(num1/num2)\n    elif operators==\"-\":\n          print('{}-{}='.format(num1,num2))\n          print(num1-num2)\n    else:\n          print(\"you have typed a wrong oerator, please try again!\")\ncalculator()",
      "metadata": {},
      "execution_count": null,
      "outputs": []
    }
  ]
}