{
  "metadata": {
    "language_info": {
      "name": ""
    },
    "kernelspec": {
      "name": "python",
      "display_name": "Python (Pyodide)",
      "language": "python"
    }
  },
  "nbformat_minor": 4,
  "nbformat": 4,
  "cells": [
    {
      "cell_type": "code",
      "source": "n=int(input())\nd=dict()\nfor x in range(1,n+1):\n    d[x]=x*x\n    print(d)",
      "metadata": {},
      "execution_count": null,
      "outputs": []
    }
  ]
}