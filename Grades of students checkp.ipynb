{
  "metadata": {
    "language_info": {
      "codemirror_mode": {
        "name": "python",
        "version": 3
      },
      "file_extension": ".py",
      "mimetype": "text/x-python",
      "name": "python",
      "nbconvert_exporter": "python",
      "pygments_lexer": "ipython3",
      "version": "3.8"
    },
    "kernelspec": {
      "name": "python",
      "display_name": "Python (Pyodide)",
      "language": "python"
    }
  },
  "nbformat_minor": 4,
  "nbformat": 4,
  "cells": [
    {
      "cell_type": "code",
      "source": "import numpy as np\nnb_std = int(input(\"Enter the number of students: \"))\nnb_sub = int(input(\"Enter the number of subjects: \"))\narr=np.zeros((nb_std, nb_sub))\nfor i in range(nb_std):\n    for j in range(nb_sub):\n        arr[i][j] = int(input(f\"Enter the marks of student {i+1} in subject {j+1}: \"))\ntot_marks = np.sum(arr, axis=1)       \npercentage = (tot_marks / (nb_sub * 100)) * 100\ngrade = []\nfor i in range(nb_std):\n    if percentage[i] >= 90:\n        grade.append('A+')\n    elif percentage[i] >= 80:\n        grade.append('A')\n    elif percentage[i] >= 70:\n        grade.append('B+')\n    elif percentage[i] >= 60:\n        grade.append('B')\n    elif percentage[i] >= 50:\n        grade.append('C')\n    else:\n        grade.append('F')\nprint(\"\\n\\n\")\nprint(\"Student Name\\tTotal Marks\\tPercentage\\tGrade\")\nfor i in range(nb_std):\n    print(f\"Student {i+1}\\t\\t{tot_marks[i]}\\t\\t{percentage[i]}%\\t\\t{grade[i]}\")\n\n\n",
      "metadata": {},
      "execution_count": null,
      "outputs": []
    }
  ]
}