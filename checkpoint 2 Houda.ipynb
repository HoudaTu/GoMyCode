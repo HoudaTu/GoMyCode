{
  "metadata": {
    "language_info": {
      "name": ""
    },
    "kernelspec": {
      "name": "",
      "display_name": ""
    }
  },
  "nbformat_minor": 4,
  "nbformat": 4,
  "cells": [
    {
      "cell_type": "code",
      "source": "#program to generate a random number between 1 and 100\nimport random\nx=random.randint(1,100)\nprint(x)\nprint(\"Welcome to the guess number game!, can you guess what it is?\")\ny=int(input())\nif y<x:\n    print(\"your guess is too low, try again\")\nelif y==x:\n    print(\"your guess is right!\")\nelse:\n    print(\"your guess is too high\")",
      "metadata": {},
      "execution_count": null,
      "outputs": []
    }
  ]
}