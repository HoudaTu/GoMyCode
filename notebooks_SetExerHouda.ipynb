{
  "metadata": {
    "language_info": {
      "name": ""
    },
    "kernelspec": {
      "name": "python",
      "display_name": "Python (Pyodide)",
      "language": "python"
    }
  },
  "nbformat_minor": 4,
  "nbformat": 4,
  "cells": [
    {
      "cell_type": "code",
      "source": "set11={0, 1, 2, 3, 4}\nfor x in set11:\n    print(x)\nset11.add(\"b\")\nprint(set11)\nset11.remove(1)\nprint(set11)",
      "metadata": {},
      "execution_count": null,
      "outputs": []
    }
  ]
}