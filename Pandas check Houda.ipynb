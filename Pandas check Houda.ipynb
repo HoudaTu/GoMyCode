{
  "metadata": {
    "language_info": {
      "name": ""
    },
    "kernelspec": {
      "name": "python",
      "display_name": "Python (Pyodide)",
      "language": "python"
    }
  },
  "nbformat_minor": 4,
  "nbformat": 4,
  "cells": [
    {
      "cell_type": "code",
      "source": "import pandas as pd\nexam_data = {'name': ['Anastasia', 'Dima', 'Katherine', 'James', 'Emily', 'Michael', 'Matthew', 'Laura', 'Kevin', 'Jonas'],\n        'score': [12.5, 9, 16.5, np.nan, 9, 20, 14.5, np.nan, 8, 19],\n        'attempts': [1, 3, 2, 3, 2, 3, 1, 1, 2, 1],\n        'qualify': ['yes', 'no', 'yes', 'no', 'no', 'yes', 'yes', 'no', 'no', 'yes']}\ndf = pd.DataFrame(exam_data)\nprint(df.head(3))\ndf = df.dropna()\ndf = df[['name', 'score']]\nk = {'name': 'Suresh', 'score': 15.5, 'attempts': 1, 'qualify': 'yes'}\ndf = df.append(k, ignore_index=True)\ndf = df.drop('attempts', axis=1)\ndf['Success'] = [1 if score > 10 else 0 for score in df['score']]\ndf.to_csv('my_data.csv', index=False)",
      "metadata": {},
      "execution_count": null,
      "outputs": []
    }
  ]
}